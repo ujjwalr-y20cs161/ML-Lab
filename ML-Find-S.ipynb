{
 "cells": [
  {
   "cell_type": "markdown",
   "id": "3258ffea",
   "metadata": {},
   "source": [
    "<h1>Find-S</h1>"
   ]
  },
  {
   "cell_type": "code",
   "execution_count": 9,
   "id": "97fd4110",
   "metadata": {},
   "outputs": [],
   "source": [
    "import pandas as pd\n",
    "import numpy as np\n",
    "from IPython.display import display"
   ]
  },
  {
   "cell_type": "code",
   "execution_count": 36,
   "id": "8a23cb0c",
   "metadata": {},
   "outputs": [
    {
     "data": {
      "text/html": [
       "<div>\n",
       "<style scoped>\n",
       "    .dataframe tbody tr th:only-of-type {\n",
       "        vertical-align: middle;\n",
       "    }\n",
       "\n",
       "    .dataframe tbody tr th {\n",
       "        vertical-align: top;\n",
       "    }\n",
       "\n",
       "    .dataframe thead th {\n",
       "        text-align: right;\n",
       "    }\n",
       "</style>\n",
       "<table border=\"1\" class=\"dataframe\">\n",
       "  <thead>\n",
       "    <tr style=\"text-align: right;\">\n",
       "      <th></th>\n",
       "      <th>Sky</th>\n",
       "      <th>AirTemp</th>\n",
       "      <th>Humidty</th>\n",
       "      <th>Wind</th>\n",
       "      <th>Water</th>\n",
       "      <th>Forecast</th>\n",
       "      <th>EnjoySport</th>\n",
       "    </tr>\n",
       "  </thead>\n",
       "  <tbody>\n",
       "    <tr>\n",
       "      <th>0</th>\n",
       "      <td>Sunny</td>\n",
       "      <td>Warm</td>\n",
       "      <td>Normal</td>\n",
       "      <td>Strong</td>\n",
       "      <td>Warm</td>\n",
       "      <td>Same</td>\n",
       "      <td>Yes</td>\n",
       "    </tr>\n",
       "    <tr>\n",
       "      <th>1</th>\n",
       "      <td>Sunny</td>\n",
       "      <td>Warm</td>\n",
       "      <td>High</td>\n",
       "      <td>Strong</td>\n",
       "      <td>Warm</td>\n",
       "      <td>Same</td>\n",
       "      <td>Yes</td>\n",
       "    </tr>\n",
       "    <tr>\n",
       "      <th>2</th>\n",
       "      <td>Rainy</td>\n",
       "      <td>Cold</td>\n",
       "      <td>High</td>\n",
       "      <td>Strong</td>\n",
       "      <td>Warm</td>\n",
       "      <td>Change</td>\n",
       "      <td>No</td>\n",
       "    </tr>\n",
       "    <tr>\n",
       "      <th>3</th>\n",
       "      <td>Sunny</td>\n",
       "      <td>Warm</td>\n",
       "      <td>High</td>\n",
       "      <td>Strong</td>\n",
       "      <td>Cool</td>\n",
       "      <td>Change</td>\n",
       "      <td>Yes</td>\n",
       "    </tr>\n",
       "  </tbody>\n",
       "</table>\n",
       "</div>"
      ],
      "text/plain": [
       "     Sky AirTemp Humidty    Wind Water Forecast EnjoySport\n",
       "0  Sunny    Warm  Normal  Strong  Warm     Same        Yes\n",
       "1  Sunny    Warm    High  Strong  Warm     Same        Yes\n",
       "2  Rainy    Cold    High  Strong  Warm   Change         No\n",
       "3  Sunny    Warm    High  Strong  Cool   Change        Yes"
      ]
     },
     "metadata": {},
     "output_type": "display_data"
    }
   ],
   "source": [
    "data = {\n",
    "    \"Sky\":[\"Sunny\",\"Sunny\",\"Rainy\",\"Sunny\"],\n",
    "    \"AirTemp\":[\"Warm\",\"Warm\",\"Cold\",\"Warm\"],\n",
    "    \"Humidty\":[\"Normal\",\"High\",\"High\",\"High\"],\n",
    "    \"Wind\":[\"Strong\",\"Strong\",\"Strong\",\"Strong\"],\n",
    "    \"Water\" : [\"Warm\",\"Warm\",\"Warm\",\"Cool\"],\n",
    "    \"Forecast\":[\"Same\",\"Same\",\"Change\",\"Change\"],\n",
    "    \"EnjoySport\":[\"Yes\",\"Yes\",\"No\",\"Yes\"]\n",
    "}\n",
    "\n",
    "df = pd.DataFrame(data)\n",
    "display(df)"
   ]
  },
  {
   "cell_type": "code",
   "execution_count": 37,
   "id": "a9a9138f",
   "metadata": {},
   "outputs": [
    {
     "name": "stdout",
     "output_type": "stream",
     "text": [
      "['@', '@', '@', '@', '@', '@', '@']\n"
     ]
    }
   ],
   "source": [
    "h = [\"@\" for i in range(len(df.columns))]\n",
    "print(h)"
   ]
  },
  {
   "cell_type": "code",
   "execution_count": 38,
   "id": "ba0fd5df",
   "metadata": {},
   "outputs": [
    {
     "name": "stdout",
     "output_type": "stream",
     "text": [
      "['Sunny', 'Warm', '?', 'Strong', '?', '?', 'Yes']\n"
     ]
    }
   ],
   "source": [
    "for i in range(len(df)):\n",
    "    x = df.iloc[i].tolist()\n",
    "    \n",
    "    if(x[-1].lower() == \"yes\"):\n",
    "        \n",
    "        for j in range(len(x)):\n",
    "            if(h[j]==\"@\"):\n",
    "                h[j] = x[j]\n",
    "            elif(h[j] != x[j]):\n",
    "                h[j] = \"?\"\n",
    "print(h)\n",
    "    "
   ]
  },
  {
   "cell_type": "code",
   "execution_count": 45,
   "id": "35245357",
   "metadata": {},
   "outputs": [
    {
     "name": "stdout",
     "output_type": "stream",
     "text": [
      "Enter the Input :sunny warm high normal cool change yes\n",
      "Fails\n"
     ]
    }
   ],
   "source": [
    "def Test(t):\n",
    "\n",
    "    for i in range(len(t)):\n",
    "        if(h[i] != \"?\" and h[i].lower()!=t[i].lower()):\n",
    "            print(\"Fails\")\n",
    "            return \n",
    "    print(\"Passes\")\n",
    "    return\n",
    "\n",
    "t = list(input(\"Enter the Input :\").split())\n",
    "Test(t)"
   ]
  }
 ],
 "metadata": {
  "kernelspec": {
   "display_name": "Python 3 (ipykernel)",
   "language": "python",
   "name": "python3"
  },
  "language_info": {
   "codemirror_mode": {
    "name": "ipython",
    "version": 3
   },
   "file_extension": ".py",
   "mimetype": "text/x-python",
   "name": "python",
   "nbconvert_exporter": "python",
   "pygments_lexer": "ipython3",
   "version": "3.9.7"
  }
 },
 "nbformat": 4,
 "nbformat_minor": 5
}
