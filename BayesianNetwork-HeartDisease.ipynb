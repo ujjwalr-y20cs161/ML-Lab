{
  "nbformat": 4,
  "nbformat_minor": 0,
  "metadata": {
    "colab": {
      "provenance": [],
      "authorship_tag": "ABX9TyN7FGTRODQhK0YPUZWXWrjj",
      "include_colab_link": true
    },
    "kernelspec": {
      "name": "python3",
      "display_name": "Python 3"
    },
    "language_info": {
      "name": "python"
    }
  },
  "cells": [
    {
      "cell_type": "markdown",
      "metadata": {
        "id": "view-in-github",
        "colab_type": "text"
      },
      "source": [
        "<a href=\"https://colab.research.google.com/github/ujjwalr-y20cs161/ML-Lab/blob/main/BayesianNetwork-HeartDisease.ipynb\" target=\"_parent\"><img src=\"https://colab.research.google.com/assets/colab-badge.svg\" alt=\"Open In Colab\"/></a>"
      ]
    },
    {
      "cell_type": "markdown",
      "source": [
        "<h1>Bayesian Networks</h1>"
      ],
      "metadata": {
        "id": "mk0nkfVGHrwg"
      }
    },
    {
      "cell_type": "code",
      "source": [
        "import numpy as np\n",
        "import pandas as pd\n",
        "\n",
        "from pgmpy.estimators import MaximumLikelihoodEstimator\n",
        "from pgmpy.models import BayesianModel\n",
        "from pgmpy.inference import VariableElimination\n",
        "\n",
        "print(f\"Versions : numpy {np.__version__}, pandas {pd.__version__},PGMPY {pgmpy.__version__}\")"
      ],
      "metadata": {
        "colab": {
          "base_uri": "https://localhost:8080/"
        },
        "id": "V5KvCErRHuZg",
        "outputId": "80e10a6e-db0e-45f2-eec5-2095f5199ede"
      },
      "execution_count": 26,
      "outputs": [
        {
          "output_type": "stream",
          "name": "stdout",
          "text": [
            "Versions : numpy 1.22.4, pandas 1.5.3,PGMPY 0.1.22\n"
          ]
        }
      ]
    },
    {
      "cell_type": "code",
      "source": [
        "# read the data set heart from the files\n",
        "\n",
        "data = pd.read_csv(\"heart.csv\")\n",
        "print(f\"Preview of the dataset : \\n {data.head()}\")\n",
        "\n",
        "# clean and preprocess the data:\n",
        "\n",
        "data.replace(\"?\",np.nan)\n",
        "\n",
        "print(f\"\\n\\nList of the attributes in the dataset : \\n{data.columns.tolist()}\\n\\nDatatypes : \\n{data.dtypes}\")"
      ],
      "metadata": {
        "colab": {
          "base_uri": "https://localhost:8080/"
        },
        "id": "zeKd7JEJIXUL",
        "outputId": "f508bfb1-5b99-4b4b-9db8-cb0f759ba54a"
      },
      "execution_count": 30,
      "outputs": [
        {
          "output_type": "stream",
          "name": "stdout",
          "text": [
            "Preview of the dataset : \n",
            "    age  sex  cp  trestbps  chol  fbs  restecg  thalach  exang  oldpeak  slope  \\\n",
            "0   63    1   3       145   233    1        0      150      0      2.3      0   \n",
            "1   37    1   2       130   250    0        1      187      0      3.5      0   \n",
            "2   41    0   1       130   204    0        0      172      0      1.4      2   \n",
            "3   56    1   1       120   236    0        1      178      0      0.8      2   \n",
            "4   57    0   0       120   354    0        1      163      1      0.6      2   \n",
            "\n",
            "   ca  thal  target  \n",
            "0   0     1       1  \n",
            "1   0     2       1  \n",
            "2   0     2       1  \n",
            "3   0     2       1  \n",
            "4   0     2       1  \n",
            "\n",
            "\n",
            "List of the attributes in the dataset : \n",
            "['age', 'sex', 'cp', 'trestbps', 'chol', 'fbs', 'restecg', 'thalach', 'exang', 'oldpeak', 'slope', 'ca', 'thal', 'target']\n",
            "\n",
            "Datatypes : \n",
            "age           int64\n",
            "sex           int64\n",
            "cp            int64\n",
            "trestbps      int64\n",
            "chol          int64\n",
            "fbs           int64\n",
            "restecg       int64\n",
            "thalach       int64\n",
            "exang         int64\n",
            "oldpeak     float64\n",
            "slope         int64\n",
            "ca            int64\n",
            "thal          int64\n",
            "target        int64\n",
            "dtype: object\n"
          ]
        }
      ]
    },
    {
      "cell_type": "code",
      "source": [
        "#model buidling use bayesian model [BayesianNetwork]  from pgmpy\n",
        "\n",
        "model = BayesianNetwork([(\"age\",\"target\"),(\"sex\",\"target\"),(\"exang\",\"target\"),(\"cp\",\"target\"),(\"target\",\"restecg\"),(\"target\",\"chol\")])\n",
        "print(f\"The model built : {model}\")"
      ],
      "metadata": {
        "colab": {
          "base_uri": "https://localhost:8080/"
        },
        "id": "3eIMektyIjge",
        "outputId": "f1416b4c-734d-44a3-d842-dbbf82ff8cef"
      },
      "execution_count": 34,
      "outputs": [
        {
          "output_type": "stream",
          "name": "stdout",
          "text": [
            "The model built : BayesianNetwork with 7 nodes and 6 edges\n"
          ]
        }
      ]
    },
    {
      "cell_type": "code",
      "source": [
        "#fit the model using MaximumLikelihoodEstimator\n",
        "model.fit(data,estimator = MaximumLikelihoodEstimator)\n",
        "# Obtaining the inference from the Model using VariableElimination method\n",
        "\n",
        "inferences = VariableElimination(model)"
      ],
      "metadata": {
        "id": "_8XB0OSoPzmN"
      },
      "execution_count": 35,
      "outputs": []
    },
    {
      "cell_type": "code",
      "source": [
        "# now query the inferences\n",
        "\n",
        "query1 = inferences.query(variables=['target'],evidence={\"restecg\":1})\n",
        "print(\"the inference of the query :\\n=> Relation between Restecg and HeartDisease :\\n\",query1)\n",
        "\n",
        "query2 = inferences.query(variables=['target'],evidence={\"cp\":2})\n",
        "print(\"\\n\\nthe inference of the query :\\n=> Relation between cp and HeartDisease :\\n\",query2)"
      ],
      "metadata": {
        "colab": {
          "base_uri": "https://localhost:8080/"
        },
        "id": "cAWKXchsQXtk",
        "outputId": "fbb2029f-4356-49ec-a7a2-0a36fca9d7a5"
      },
      "execution_count": 37,
      "outputs": [
        {
          "output_type": "stream",
          "name": "stdout",
          "text": [
            "the inference of the query :\n",
            "=> Relation between Restecg and HeartDisease :\n",
            " +-----------+---------------+\n",
            "| target    |   phi(target) |\n",
            "+===========+===============+\n",
            "| target(0) |        0.4242 |\n",
            "+-----------+---------------+\n",
            "| target(1) |        0.5758 |\n",
            "+-----------+---------------+\n",
            "\n",
            "\n",
            "the inference of the query :\n",
            "=> Relation between cp and HeartDisease :\n",
            " +-----------+---------------+\n",
            "| target    |   phi(target) |\n",
            "+===========+===============+\n",
            "| target(0) |        0.3755 |\n",
            "+-----------+---------------+\n",
            "| target(1) |        0.6245 |\n",
            "+-----------+---------------+\n"
          ]
        }
      ]
    }
  ]
}