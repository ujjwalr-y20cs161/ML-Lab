{
  "cells": [
    {
      "cell_type": "code",
      "execution_count": 3,
      "metadata": {
        "colab": {
          "base_uri": "https://localhost:8080/"
        },
        "id": "oFGNyy6DVZdm",
        "outputId": "892689f4-3a1e-47f1-d625-ffefb2bbe158"
      },
      "outputs": [
        {
          "name": "stdout",
          "output_type": "stream",
          "text": [
            "success\n"
          ]
        }
      ],
      "source": [
        "from pandas import read_csv\n",
        "import math\n",
        "print(\"success\")"
      ]
    },
    {
      "cell_type": "code",
      "execution_count": 4,
      "metadata": {
        "colab": {
          "base_uri": "https://localhost:8080/"
        },
        "id": "-1S_LRzbV2MS",
        "outputId": "4d75022a-8127-4a03-ebc8-ec3d413ee429"
      },
      "outputs": [
        {
          "name": "stdout",
          "output_type": "stream",
          "text": [
            "Dataset : \n",
            "     day   outlook  temp humidity    wind play\n",
            "0    D1     Sunny   Hot     High    Weak   No\n",
            "1    D2     Sunny   Hot     High  Strong   No\n",
            "2    D3  Overcast   Hot     High    Weak  Yes\n",
            "3    D4      Rain  Mild     High    Weak  Yes\n",
            "4    D5      Rain  Cool   Normal    Weak  Yes\n",
            "5    D6      Rain  Cool   Normal  Strong   No\n",
            "6    D7  Overcast  Cool   Normal  Strong  Yes\n",
            "7    D8     Sunny  Mild     High    Weak   No\n",
            "8    D9     Sunny  Cool   Normal    Weak  Yes\n",
            "9   D10      Rain  Mild   Normal    Weak  Yes\n",
            "10  D11     Sunny  Mild   Normal  Strong  Yes\n",
            "11  D12  Overcast  Mild     High  Strong  Yes\n",
            "12  D13  Overcast   Hot   Normal    Weak  Yes\n",
            "13  D14      Rain  Mild     High  Strong   No\n"
          ]
        }
      ],
      "source": [
        "# read the dataset : we are using playTennis Dataset:\n",
        "data = read_csv(\"play_tennis.csv\")\n",
        "\n",
        "print(\"Dataset : \\n\",data)"
      ]
    },
    {
      "cell_type": "code",
      "execution_count": 32,
      "metadata": {
        "id": "Ja0lHs3fWcDi"
      },
      "outputs": [],
      "source": [
        "def Entropy(data):\n",
        "  pos: int = 0\n",
        "  neg: int = 0\n",
        "  n = len(data)\n",
        "\n",
        "  for i in range(len(data)):\n",
        "    if(data[\"play\"][i] ==  \"Yes\"):pos+=1\n",
        "    elif(data[\"play\"][i] == \"No\"):neg+=1\n",
        "    else: print(\"Invalid value in play column\")\n",
        "\n",
        "  pos,neg = pos/n,neg/n\n",
        "\n",
        "  return -pos*math.log(pos,2) - neg*math.log(neg,2)\n",
        "\n",
        "def EntropyAttr(data,attr):\n",
        "\n",
        "  ent = []\n",
        "\n",
        "  if attr not in data.columns :\n",
        "    print(\"Invalid Attribute\")\n",
        "    return\n",
        "\n",
        "  values = list(set(data[attr]))\n",
        "  # print(values)\n",
        "  n = len(data)\n",
        "\n",
        "  for value in values:\n",
        "    # print(value)\n",
        "    pos: int = 0\n",
        "    neg: int = 0\n",
        "\n",
        "    for i in range(len(data)):\n",
        "      # print(data[attr][i],data[\"play\"][i] ==  \"Yes\",value)\n",
        "      if(data[attr][i] == value and data[\"play\"][i] ==  \"Yes\" ):pos+=1\n",
        "      elif(data[attr][i] == value and data[\"play\"][i] == \"No\"):neg+=1\n",
        "      # else: print(f\"Invalid attribute value in {attr} column\")\n",
        "    totV = pos+neg\n",
        "    if(pos == 0 or neg == 0) : continue\n",
        "    # print(attr,value,totV,pos,neg)\n",
        "    pos,neg = pos/totV,neg/totV\n",
        "    # print((-pos*math.log(pos,2) - neg*math.log(neg,2)))\n",
        "\n",
        "    ent.append((totV/n)*(-pos*math.log(pos,2) - neg*math.log(neg,2)))\n",
        "  return sum(ent)\n",
        "\n",
        "def InfoGain(data,attr):\n",
        "  return Entropy(data) - EntropyAttr(data,attr)\n"
      ]
    },
    {
      "cell_type": "code",
      "execution_count": 6,
      "metadata": {
        "id": "qCUCo0ShWoiW"
      },
      "outputs": [],
      "source": [
        "def decisionTree():\n",
        "  pass"
      ]
    },
    {
      "cell_type": "code",
      "execution_count": 33,
      "metadata": {
        "colab": {
          "base_uri": "https://localhost:8080/"
        },
        "id": "VreAuaYMYk9D",
        "outputId": "8d193175-3f52-4ff4-87fa-a8da4a309d5f"
      },
      "outputs": [
        {
          "name": "stdout",
          "output_type": "stream",
          "text": [
            "['day', 'outlook', 'temp', 'humidity', 'wind', 'play']\n",
            "['outlook', 'temp', 'humidity', 'wind']\n",
            "outlook\n",
            "Gain(outlook) : 0.2467498197744391\n",
            "temp\n",
            "Gain(temp) : 0.029222565658954647\n",
            "humidity\n",
            "Gain(humidity) : 0.15183550136234136\n",
            "wind\n",
            "Gain(wind) : 0.04812703040826927\n"
          ]
        }
      ],
      "source": [
        "l = data.columns.tolist()\n",
        "print(l)\n",
        "l.remove('day')\n",
        "l.remove('play')\n",
        "print(l)\n",
        "for i in l:\n",
        "    print(i)\n",
        "    print(f\"Gain({i}) : {InfoGain(data,i)}\")"
      ]
    },
    {
      "cell_type": "code",
      "execution_count": 29,
      "metadata": {
        "colab": {
          "base_uri": "https://localhost:8080/"
        },
        "id": "X_-Zegetijsp",
        "outputId": "f4dce85d-e712-4384-c91e-47b68fb13999"
      },
      "outputs": [
        {
          "data": {
            "text/plain": [
              "0.0"
            ]
          },
          "execution_count": 29,
          "metadata": {},
          "output_type": "execute_result"
        }
      ],
      "source": [
        "# InfoGain(data,\"outlook\")\n",
        "math.log(1,2)"
      ]
    }
  ],
  "metadata": {
    "colab": {
      "provenance": []
    },
    "kernelspec": {
      "display_name": "Python 3",
      "name": "python3"
    },
    "language_info": {
      "codemirror_mode": {
        "name": "ipython",
        "version": 3
      },
      "file_extension": ".py",
      "mimetype": "text/x-python",
      "name": "python",
      "nbconvert_exporter": "python",
      "pygments_lexer": "ipython3",
      "version": "3.9.7"
    }
  },
  "nbformat": 4,
  "nbformat_minor": 0
}
