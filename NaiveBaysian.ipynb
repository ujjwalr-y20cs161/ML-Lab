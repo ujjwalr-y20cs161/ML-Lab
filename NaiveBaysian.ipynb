{
 "cells": [
  {
   "cell_type": "code",
   "execution_count": 1,
   "id": "4b12dc40",
   "metadata": {},
   "outputs": [
    {
     "name": "stdout",
     "output_type": "stream",
     "text": [
      "hello\n"
     ]
    }
   ],
   "source": [
    "print(\"hello\")"
   ]
  },
  {
   "cell_type": "code",
   "execution_count": 2,
   "id": "7e4842e8",
   "metadata": {},
   "outputs": [
    {
     "name": "stdout",
     "output_type": "stream",
     "text": [
      "1.3.4\n"
     ]
    }
   ],
   "source": [
    "import pandas as pd\n",
    "print(pd.__version__)"
   ]
  },
  {
   "cell_type": "code",
   "execution_count": 116,
   "id": "b6abb679",
   "metadata": {},
   "outputs": [
    {
     "name": "stdout",
     "output_type": "stream",
     "text": [
      "     Outlook Temperature Humidity  Windy Class\n",
      "0      sunny         hot     high  False     N\n",
      "1      sunny         hot     high   True     N\n",
      "2   overcast         hot     high  False     P\n",
      "3       rain        mild     high  False     P\n",
      "4       rain        cool   normal  False     P\n",
      "5       rain        cool   normal   True     N\n",
      "6   overcast        cool   normal   True     P\n",
      "7      sunny        mild     high  False     N\n",
      "8      sunny        cool   normal  False     P\n",
      "9       rain        mild   normal  False     P\n",
      "10     sunny        mild   normal   True     P\n",
      "11  overcast        mild     high   True     P\n",
      "12  overcast         hot   normal  False     P\n",
      "13      rain        mild     high   True     N\n",
      "-----------------\n",
      "    Outlook Temperature Humidity  Windy Class\n",
      "0  overcast         hot   normal  False     P\n",
      "1      rain        mild     high   True     N\n"
     ]
    },
    {
     "name": "stderr",
     "output_type": "stream",
     "text": [
      "C:\\ProgramData\\Anaconda3\\lib\\site-packages\\pandas\\core\\frame.py:4906: SettingWithCopyWarning: \n",
      "A value is trying to be set on a copy of a slice from a DataFrame\n",
      "\n",
      "See the caveats in the documentation: https://pandas.pydata.org/pandas-docs/stable/user_guide/indexing.html#returning-a-view-versus-a-copy\n",
      "  return super().drop(\n"
     ]
    }
   ],
   "source": [
    "data = pd.read_csv(\"C:/Users/y20cs161/Documents/MLbaseyenData.csv\")\n",
    "data.head()\n",
    "\n",
    "test = data[12:-1]\n",
    "test.reset_index(inplace=True)\n",
    "test.drop([\"index\"],axis=1,inplace=True)\n",
    "# test=''\n",
    "data = data[:-1]\n",
    "\n",
    "print(data,test,sep=\"\\n-----------------\\n\")"
   ]
  },
  {
   "cell_type": "code",
   "execution_count": 112,
   "id": "8c533813",
   "metadata": {},
   "outputs": [
    {
     "name": "stdout",
     "output_type": "stream",
     "text": [
      "9 5\n",
      "sunny|N\n",
      "overcast|P\n",
      "rain|P\n",
      "rain|N\n",
      "sunny|P\n",
      "hot|N\n",
      "hot|P\n",
      "mild|P\n",
      "cool|P\n",
      "cool|N\n",
      "mild|N\n",
      "high|N\n",
      "high|P\n",
      "normal|P\n",
      "normal|N\n",
      "False|N\n",
      "True|N\n",
      "False|P\n",
      "True|P\n",
      "\n",
      "{'sunny|N': 0.6000000000000001, 'overcast|P': 0.4444444444444444, 'rain|P': 0.3333333333333333, 'rain|N': 0.4, 'sunny|P': 0.2222222222222222, 'hot|N': 0.4, 'hot|P': 0.2222222222222222, 'mild|P': 0.4444444444444444, 'cool|P': 0.3333333333333333, 'cool|N': 0.2, 'mild|N': 0.4, 'high|N': 0.8, 'high|P': 0.3333333333333333, 'normal|P': 0.6666666666666667, 'normal|N': 0.2, 'False|N': 0.4, 'True|N': 0.6000000000000001, 'False|P': 0.6666666666666667, 'True|P': 0.3333333333333333, 'P': 0.6428571428571429, 'N': 0.35714285714285715, 'overcast|N': 0}\n"
     ]
    }
   ],
   "source": [
    "prob = {}\n",
    "\n",
    "p = 0\n",
    "n = 0\n",
    "# count positive and negative classes\n",
    "for i in data[\"Class\"]:\n",
    "    if(i == 'N'):\n",
    "        n+=1\n",
    "    elif(i == 'P') : p+=1\n",
    "\n",
    "print(p,n)\n",
    "\n",
    "# now calculate the probabilities:\n",
    "\n",
    "\n",
    "for x in data:\n",
    "    for i in range(len(data[x])):\n",
    "        if(x != \"Class\"):\n",
    "            if(data[\"Class\"][i] == 'P'):\n",
    "                if(f\"{data[x][i]}|{data['Class'][i]}\" not in prob):\n",
    "                    prob[f\"{data[x][i]}|{data['Class'][i]}\"]=1/p\n",
    "                    print(f\"{data[x][i]}|{data['Class'][i]}\")\n",
    "                else : prob[f\"{data[x][i]}|{data['Class'][i]}\"]+=1/p\n",
    "            else:\n",
    "                if(f\"{data[x][i]}|{data['Class'][i]}\" not in prob):\n",
    "                    prob[f\"{data[x][i]}|{data['Class'][i]}\"]=1/n\n",
    "                    print(f\"{data[x][i]}|{data['Class'][i]}\")\n",
    "                else : prob[f\"{data[x][i]}|{data['Class'][i]}\"]+=1/n\n",
    "\n",
    "prob[\"P\"] = p/(n+p)\n",
    "prob[\"N\"] = n/(n+p)\n",
    "\n",
    "print()\n",
    "for x in data.columns[:-1]:\n",
    "    for i in range(len(data[x])):\n",
    "        if f'{data[x][i]}|P' not in prob:\n",
    "            prob[f'{data[x][i]}|P'] = 0\n",
    "        \n",
    "        if f'{data[x][i]}|N' not in prob:\n",
    "            prob[f'{data[x][i]}|N'] = 0\n",
    "\n",
    "\n",
    "print(prob)\n",
    "\n",
    "\n",
    "\n",
    "\n"
   ]
  },
  {
   "cell_type": "code",
   "execution_count": 114,
   "id": "795c0ca0",
   "metadata": {},
   "outputs": [],
   "source": [
    "\n",
    "\n",
    "for i in range(len(test)):\n",
    "    print(\"------>\",test[\"Class\"][i])\n",
    "    \n",
    "    chance = prob[\"P\"]\n",
    "    nochance = prob[\"N\"]\n",
    "    for x in test.columns[:-1]:\n",
    "        print(f'{test[x][i]}|P',\":\",prob[f'{test[x][i]}|P'])\n",
    "        chance*=prob[f'{test[x][i]}|P']\n",
    "        print(f'{test[x][i]}|N',\":\",prob[f'{test[x][i]}|N'])\n",
    "        nochance*=prob[f'{test[x][i]}|N']\n",
    "    print(\"fave\")\n",
    "    print(chance,nochance)"
   ]
  },
  {
   "cell_type": "code",
   "execution_count": 120,
   "id": "937e79c2",
   "metadata": {},
   "outputs": [
    {
     "name": "stdout",
     "output_type": "stream",
     "text": [
      "overcast,cool,high,True\n",
      "['overcast', 'cool', 'high', 'True']\n",
      "0.4444444444444444 ---- 0\n",
      "0.3333333333333333 ---- 0.2\n",
      "0.3333333333333333 ---- 0.8\n",
      "0.3333333333333333 ---- 0.6000000000000001\n",
      "Yes, You can play tennis\n"
     ]
    }
   ],
   "source": [
    "rec = list(input().split(\",\"))\n",
    "print(rec)\n",
    "\n",
    "chance = prob[\"P\"]\n",
    "nochance = prob[\"N\"]\n",
    "\n",
    "for i in rec:\n",
    "    chance*= prob[f'{i}|P']\n",
    "    nochance *= prob[f'{i}|N']\n",
    "    print(prob[f'{i}|P'],\"----\",prob[f'{i}|N'])\n",
    "\n",
    "    \n",
    "if(nochance>chance):\n",
    "    print(\"No, You can't play tennis\")\n",
    "else: \n",
    "    print(\"Yes, You can play tennis\")\n",
    "\n",
    "# sunny,cool,high,True\n",
    "# rain,cool,high,True"
   ]
  },
  {
   "cell_type": "code",
   "execution_count": 121,
   "id": "e77d50e5",
   "metadata": {},
   "outputs": [
    {
     "name": "stdout",
     "output_type": "stream",
     "text": [
      "------> P\n",
      "overcast|P : 0.4444444444444444\n",
      "overcast|N : 0\n",
      "hot|P : 0.2222222222222222\n",
      "hot|N : 0.4\n",
      "normal|P : 0.6666666666666667\n",
      "normal|N : 0.2\n",
      "False|P : 0.6666666666666667\n",
      "False|N : 0.4\n",
      "Yes, You can play tennis\n",
      "------> N\n",
      "rain|P : 0.3333333333333333\n",
      "rain|N : 0.4\n",
      "mild|P : 0.4444444444444444\n",
      "mild|N : 0.4\n",
      "high|P : 0.3333333333333333\n",
      "high|N : 0.8\n",
      "True|P : 0.3333333333333333\n",
      "True|N : 0.6000000000000001\n",
      "No, You can't play tennis\n"
     ]
    }
   ],
   "source": [
    "\n",
    "for i in range(len(test)):\n",
    "    print(\"------>\",test[\"Class\"][i])\n",
    "    \n",
    "    chance = prob[\"P\"]\n",
    "    nochance = prob[\"N\"]\n",
    "    for x in test.columns[:-1]:\n",
    "        print(f'{test[x][i]}|P',\":\",prob[f'{test[x][i]}|P'])\n",
    "        chance*=prob[f'{test[x][i]}|P']\n",
    "        print(f'{test[x][i]}|N',\":\",prob[f'{test[x][i]}|N'])\n",
    "        nochance*=prob[f'{test[x][i]}|N']\n",
    "    if(nochance>chance):\n",
    "        print(\"No, You can't play tennis\")\n",
    "    else: \n",
    "        print(\"Yes, You can play tennis\")"
   ]
  }
 ],
 "metadata": {
  "kernelspec": {
   "display_name": "Python 3 (ipykernel)",
   "language": "python",
   "name": "python3"
  },
  "language_info": {
   "codemirror_mode": {
    "name": "ipython",
    "version": 3
   },
   "file_extension": ".py",
   "mimetype": "text/x-python",
   "name": "python",
   "nbconvert_exporter": "python",
   "pygments_lexer": "ipython3",
   "version": "3.9.7"
  }
 },
 "nbformat": 4,
 "nbformat_minor": 5
}
